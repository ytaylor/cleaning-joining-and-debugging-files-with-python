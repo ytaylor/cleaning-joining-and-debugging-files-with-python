{
  "nbformat": 4,
  "nbformat_minor": 0,
  "metadata": {
    "colab": {
      "name": "censo-municipal.ipynb",
      "version": "0.3.2",
      "provenance": [],
      "collapsed_sections": [],
      "include_colab_link": true
    },
    "kernelspec": {
      "name": "python3",
      "display_name": "Python 3"
    }
  },
  "cells": [
    {
      "cell_type": "markdown",
      "metadata": {
        "id": "view-in-github",
        "colab_type": "text"
      },
      "source": [
        "<a href=\"https://colab.research.google.com/github/ytaylor/cleaning-joining-and-debugging-files-with-python/blob/master/censo_municipal.ipynb\" target=\"_parent\"><img src=\"https://colab.research.google.com/assets/colab-badge.svg\" alt=\"Open In Colab\"/></a>"
      ]
    },
    {
      "metadata": {
        "id": "41RCQ6zpLar4",
        "colab_type": "code",
        "outputId": "3b308571-cefc-41bb-c97a-48a90b753b34",
        "colab": {
          "base_uri": "https://localhost:8080/",
          "height": 128
        }
      },
      "cell_type": "code",
      "source": [
        "#install necessary python package.\n",
        "!pip install openpyxl\n",
        "\n",
        "from openpyxl import Workbook\n",
        "filepath_new = 'all.xlsx'\n",
        "new_sheet='censo_agrario_avila'\n",
        "\n",
        "#Open the excel file with all information\n",
        "# create Workbook object\n",
        "wb=Workbook()\n",
        "# save workbook \n",
        "wb.save(filepath_new)\n",
        "# get Sheet\n",
        "wb.create_sheet(new_sheet)\n",
        "sheet=wb.get_sheet_by_name(new_sheet)\n",
        "\n",
        "#Read and clean the txt file\n",
        "list=[]\n",
        "\n",
        "with open('censo') as f:\n",
        "    lines = f.readlines()\n",
        "    \n",
        "for line in lines:\n",
        "  #Obtain code the province \n",
        "  cod_province = line[1:3]\n",
        "  if cod_province==\"05\":\n",
        "    list.append(line)\n",
        "    \n",
        "#Save the information txn in excel\n",
        "row = [(\"codigo\", \"provincia\" , \"municipio\")]\n",
        "sheet.append(row[0])\n",
        "for line in list:\n",
        "        cod = line[0]\n",
        "        provincia = line[1:3]\n",
        "        municipio = line[4:6]\n",
        "        row = [(cod, provincia , municipio)]\n",
        "        sheet.append(row[0])\n",
        "#Save workbook\n",
        "wb.save(filepath_new)    \n"
      ],
      "execution_count": 19,
      "outputs": [
        {
          "output_type": "stream",
          "text": [
            "Requirement already satisfied: openpyxl in /usr/local/lib/python3.6/dist-packages (2.5.9)\n",
            "Requirement already satisfied: jdcal in /usr/local/lib/python3.6/dist-packages (from openpyxl) (1.4)\n",
            "Requirement already satisfied: et_xmlfile in /usr/local/lib/python3.6/dist-packages (from openpyxl) (1.0.1)\n"
          ],
          "name": "stdout"
        },
        {
          "output_type": "stream",
          "text": [
            "/usr/local/lib/python3.6/dist-packages/ipykernel_launcher.py:14: DeprecationWarning: Call to deprecated function get_sheet_by_name (Use wb[sheetname]).\n",
            "  \n"
          ],
          "name": "stderr"
        }
      ]
    }
  ]
}