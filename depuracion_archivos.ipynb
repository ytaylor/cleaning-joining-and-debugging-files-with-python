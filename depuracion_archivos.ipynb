{
  "nbformat": 4,
  "nbformat_minor": 0,
  "metadata": {
    "colab": {
      "name": "depuracion_archivos.ipynb",
      "version": "0.3.2",
      "provenance": [],
      "include_colab_link": true
    },
    "kernelspec": {
      "name": "python3",
      "display_name": "Python 3"
    }
  },
  "cells": [
    {
      "cell_type": "markdown",
      "metadata": {
        "id": "view-in-github",
        "colab_type": "text"
      },
      "source": [
        "<a href=\"https://colab.research.google.com/github/ytaylor/cleaning-joining-and-debugging-files-with-python/blob/master/depuracion_archivos.ipynb\" target=\"_parent\"><img src=\"https://colab.research.google.com/assets/colab-badge.svg\" alt=\"Open In Colab\"/></a>"
      ]
    },
    {
      "metadata": {
        "id": "xHR_UQKdeBK-",
        "colab_type": "code",
        "colab": {}
      },
      "cell_type": "code",
      "source": [
        "#Depuration excel files\n",
        "wb1=Workbook()\n",
        "wb1.save(\"all_to.xlsx\")\n",
        "sheet_padron = wb1.get_sheet_by_name(\"hombres_totales_Padron_Continuo\")\n",
        "for cell in sheet.col(0):\n",
        "  fila = cell.value.split('-')\n",
        "  print(fila)\n",
        "  \n",
        "#Add new column with informacion split\n",
        "#Dar formato a los excel igual que la bases de datos para poder hacer la carga"
      ],
      "execution_count": 0,
      "outputs": []
    }
  ]
}